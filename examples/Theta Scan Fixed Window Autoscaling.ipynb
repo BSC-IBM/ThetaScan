{
 "cells": [
  {
   "cell_type": "code",
   "execution_count": 48,
   "id": "fd01dc79",
   "metadata": {},
   "outputs": [],
   "source": [
    "import sys\n",
    "import os\n",
    "import numpy as np"
   ]
  },
  {
   "cell_type": "code",
   "execution_count": 41,
   "id": "851e3fd2",
   "metadata": {},
   "outputs": [],
   "source": [
    "sys.path.append(os.path.abspath(\"../package\"))\n"
   ]
  },
  {
   "cell_type": "code",
   "execution_count": 45,
   "id": "e8a93375",
   "metadata": {},
   "outputs": [],
   "source": [
    "import ThetaScan"
   ]
  },
  {
   "cell_type": "code",
   "execution_count": 46,
   "id": "c3359294",
   "metadata": {},
   "outputs": [],
   "source": [
    "TS = ThetaScan.ThetaScan()"
   ]
  },
  {
   "cell_type": "code",
   "execution_count": 49,
   "id": "f47daef6",
   "metadata": {},
   "outputs": [],
   "source": [
    "a = np.zeros(5)"
   ]
  },
  {
   "cell_type": "code",
   "execution_count": 50,
   "id": "6e6dd5cc",
   "metadata": {},
   "outputs": [
    {
     "name": "stderr",
     "output_type": "stream",
     "text": [
      "/Users/claudiahm/anaconda3/lib/python3.7/site-packages/statsmodels/regression/linear_model.py:903: RuntimeWarning: divide by zero encountered in log\n",
      "  llf = -nobs2*np.log(2*np.pi) - nobs2*np.log(ssr / nobs) - nobs2\n"
     ]
    },
    {
     "data": {
      "text/plain": [
       "False"
      ]
     },
     "execution_count": 50,
     "metadata": {},
     "output_type": "execute_result"
    }
   ],
   "source": [
    "TS.detect_adf_stationarity(a)"
   ]
  },
  {
   "cell_type": "code",
   "execution_count": null,
   "id": "2583cca7",
   "metadata": {},
   "outputs": [],
   "source": []
  }
 ],
 "metadata": {
  "kernelspec": {
   "display_name": "Python 3",
   "language": "python",
   "name": "python3"
  },
  "language_info": {
   "codemirror_mode": {
    "name": "ipython",
    "version": 3
   },
   "file_extension": ".py",
   "mimetype": "text/x-python",
   "name": "python",
   "nbconvert_exporter": "python",
   "pygments_lexer": "ipython3",
   "version": "3.7.6"
  }
 },
 "nbformat": 4,
 "nbformat_minor": 5
}
